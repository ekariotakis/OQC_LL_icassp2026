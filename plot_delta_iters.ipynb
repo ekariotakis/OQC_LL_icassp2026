{
 "cells": [
  {
   "cell_type": "code",
   "execution_count": 1,
   "id": "b368337c",
   "metadata": {},
   "outputs": [],
   "source": [
    "import os\n",
    "import copy\n",
    "import numpy as np\n",
    "import networkx as nx\n",
    "\n",
    "from datetime import datetime\n",
    "import matplotlib.pyplot as plt \n",
    "from tqdm import tqdm\n",
    "\n",
    "import scipy\n",
    "from scipy.sparse.linalg import eigsh\n",
    "\n",
    "from init_graph import *\n",
    "import peeling\n",
    "import utils\n",
    "import LL_optimization"
   ]
  },
  {
   "cell_type": "code",
   "execution_count": 2,
   "id": "671b7dfd",
   "metadata": {},
   "outputs": [],
   "source": [
    "save_source_path = \"/esat/augustijn1/scratch/ekariota/Figures/LL_OQC_icassp26/\"\n",
    "save_=0"
   ]
  },
  {
   "cell_type": "code",
   "execution_count": 3,
   "id": "76fe8608",
   "metadata": {},
   "outputs": [],
   "source": [
    "# Import seaborn\n",
    "import seaborn as sns\n",
    "\n",
    "# Apply the default theme\n",
    "sns.set_theme()\n",
    "\n",
    "plt.rcParams[\"figure.dpi\"]=100\n",
    "plt.rcParams['savefig.dpi']=300\n",
    "\n",
    "sns.set_theme(style=\"whitegrid\")\n",
    "sns.set_style({\"axes.facecolor\": \".98\"})\n",
    "\n",
    "colors = sns.color_palette(\"muted\", 7)\n",
    "# markers = ['o','s','p','^','<','>','v','P','X']\n"
   ]
  },
  {
   "cell_type": "code",
   "execution_count": 4,
   "id": "5c085944",
   "metadata": {},
   "outputs": [],
   "source": [
    "# dataset_name = \"facebook_combined\"\n",
    "\n",
    "dataset_name = \"github\"\n",
    "# dataset_name = \"web-Stanford\"\n",
    "# dataset_name = 'caidaRouterLevel'\n",
    "\n",
    "source_path = \"../datasets/\"\n",
    "G = init_graph(dataset_name, source_path)"
   ]
  },
  {
   "cell_type": "code",
   "execution_count": 5,
   "id": "23794e92",
   "metadata": {},
   "outputs": [
    {
     "name": "stdout",
     "output_type": "stream",
     "text": [
      "Graph with 37700 nodes and 289003 edges\n"
     ]
    }
   ],
   "source": [
    "print(G)\n",
    "n = G.number_of_nodes()\n",
    "m = G.number_of_edges()"
   ]
  },
  {
   "cell_type": "code",
   "execution_count": 15,
   "id": "281c4746",
   "metadata": {},
   "outputs": [],
   "source": [
    "A = nx.adjacency_matrix(G).astype(float)\n"
   ]
  },
  {
   "cell_type": "code",
   "execution_count": 6,
   "id": "c027c510",
   "metadata": {},
   "outputs": [],
   "source": [
    "logs_save_path = \"/esat/augustijn1/scratch/ekariota/python_scripts/LL_OQC_icassp26/logs/\""
   ]
  },
  {
   "cell_type": "code",
   "execution_count": 7,
   "id": "ddb0c289",
   "metadata": {},
   "outputs": [],
   "source": [
    "# alpha_ = [0.1, 0.2, 0.3, 0.4, 0.5, 0.6, 0.7, 0.8, 0.9]\n",
    "\n",
    "# alpha_ = [0.8, 0.9, 0.91, 0.92, 0.93, 0.94, 0.95, 0.96, 0.97, 0.98, 0.99, 1.0]\n",
    "# alpha_ = [0.6, 0.7, 0.8, 0.9, 0.91, 0.92, 0.93, 0.94, 0.95, 0.96, 0.97, 0.98, 0.99]\n",
    "# alpha_ = [ 0.92, 0.93, 0.94, 0.95, 0.96]\n",
    "# alpha_ = [0.1, 0.2, 0.3, 0.4, 0.5, 0.6, 0.7, 0.8, 0.9, 0.91, 0.92, 0.93, 0.94, 0.95, 0.96, 0.97, 0.98, 0.99]\n",
    "# alpha_ = [0.91, 0.92, 0.93, 0.94, 0.95, 0.96, 0.97, 0.98, 0.99]\n",
    "\n",
    "# alpha_ = [0.6, 0.7, 0.8, 0.9, 0.91, 0.93, 0.95, 0.97, 0.99]\n",
    "alpha_ = [0.7, 0.8, 0.9, 0.93, 0.97]\n",
    "# alpha_ = [0.4, 0.5, 0.6, 0.7, 0.8, 0.9, 0.91, 0.93, 0.95]\n"
   ]
  },
  {
   "cell_type": "code",
   "execution_count": 8,
   "id": "9f1a28fd",
   "metadata": {},
   "outputs": [],
   "source": [
    "max_iters = 20\n",
    "initialization='S_oh'\n",
    "density_type='avg_deg'"
   ]
  },
  {
   "cell_type": "code",
   "execution_count": 9,
   "id": "533a384f",
   "metadata": {},
   "outputs": [],
   "source": [
    "dir_path = logs_save_path+dataset_name+'/'\n",
    "\n",
    "result_ = []\n",
    "fun_values_vec_ = []\n",
    "is_binary_vec_ = []\n",
    "selected_nodes_ = []\n",
    "OQC_density_ = []\n",
    "avg_deg_density_ = []\n",
    "num_of_nodes_ = []\n",
    "x0_ = []\n",
    "GreedyOQC_indicator_ = []\n",
    "GreedyOQC_density_ = []\n",
    "delta_vec_ = []\n",
    "GreedyOQC_delta_ = []\n",
    "error_from_binary_ = []\n",
    "for alpha in alpha_:\n",
    "    load_path = dir_path+dataset_name+'_alpha'+'{:.2f}'.format(alpha)\n",
    "    load_path = load_path+'_'+initialization\n",
    "    if initialization=='S_oh':\n",
    "        load_path = load_path+'_'+density_type\n",
    "    load_path = load_path + '_iters'+str(max_iters)+'_log.npy'\n",
    "\n",
    "    variables_dict = np.load(load_path, allow_pickle=True)\n",
    "\n",
    "    result = variables_dict.item().get('result')\n",
    "    fun_values_ = variables_dict.item().get('fun_values_')\n",
    "    is_binary_ = variables_dict.item().get('is_binary_')\n",
    "    selected_nodes = variables_dict.item().get('selected_nodes')\n",
    "    OQC_density = variables_dict.item().get('OQC_density')\n",
    "    avg_deg_density = variables_dict.item().get('avg_deg_density')\n",
    "    num_of_nodes = variables_dict.item().get('num_of_nodes')\n",
    "    x0 = variables_dict.item().get('x0')\n",
    "    GreedyOQC_indicator = variables_dict.item().get('GreedyOQC_indicator')\n",
    "    GreedyOQC_density = variables_dict.item().get('GreedyOQC_density')\n",
    "    \n",
    "    result_.append(result)\n",
    "    fun_values_vec_.append(fun_values_)\n",
    "    is_binary_vec_.append(is_binary_)\n",
    "    selected_nodes_.append(selected_nodes)\n",
    "    OQC_density_.append(OQC_density)\n",
    "    avg_deg_density_.append(avg_deg_density)\n",
    "    num_of_nodes_.append(num_of_nodes)\n",
    "    x0_.append(x0)\n",
    "    GreedyOQC_indicator_.append(GreedyOQC_indicator)\n",
    "    GreedyOQC_density_.append(GreedyOQC_density)\n",
    "\n",
    "    delta_ = np.array(fun_values_) / (num_of_nodes*(num_of_nodes-1)/2) + alpha\n",
    "    delta_vec_.append(delta_)\n",
    "\n",
    "    GreedyOQC_num_of_nodes = GreedyOQC_indicator.sum().item()\n",
    "    GreedyOQC_delta = GreedyOQC_density / (GreedyOQC_num_of_nodes*(GreedyOQC_num_of_nodes-1)/2) + alpha\n",
    "    GreedyOQC_delta_.append(GreedyOQC_delta)\n",
    "\n",
    "    error_from_binary_.append(utils.error_from_binary(result.x, n))"
   ]
  },
  {
   "cell_type": "code",
   "execution_count": 10,
   "id": "a6797ac5",
   "metadata": {},
   "outputs": [],
   "source": [
    "max_iters = 20\n",
    "initialization_2='S_greedy'\n",
    "density_type_2='avg_deg'"
   ]
  },
  {
   "cell_type": "code",
   "execution_count": 11,
   "id": "347ad8a8",
   "metadata": {},
   "outputs": [],
   "source": [
    "dir_path = logs_save_path+dataset_name+'/'\n",
    "\n",
    "result_2_ = []\n",
    "fun_values_vec_2_ = []\n",
    "is_binary_vec_2_ = []\n",
    "selected_nodes_2_ = []\n",
    "OQC_density_2_ = []\n",
    "avg_deg_density_2_ = []\n",
    "num_of_nodes_2_ = []\n",
    "x0_2_ = []\n",
    "GreedyOQC_indicator_2_ = []\n",
    "GreedyOQC_density_2_ = []\n",
    "delta_2_vec_ = []\n",
    "GreedyOQC_delta_2_ = []\n",
    "error_from_binary_2_ = []\n",
    "for alpha in alpha_:\n",
    "    load_path = dir_path+dataset_name+'_alpha'+'{:.2f}'.format(alpha)\n",
    "    load_path = load_path+'_'+initialization_2\n",
    "    if initialization_2=='S_oh':\n",
    "        load_path = load_path+'_'+density_type_2\n",
    "    load_path = load_path + '_iters'+str(max_iters)+'_log.npy'\n",
    "\n",
    "    variables_dict = np.load(load_path, allow_pickle=True)\n",
    "\n",
    "    result = variables_dict.item().get('result')\n",
    "    fun_values_ = variables_dict.item().get('fun_values_')\n",
    "    is_binary_ = variables_dict.item().get('is_binary_')\n",
    "    selected_nodes = variables_dict.item().get('selected_nodes')\n",
    "    OQC_density = variables_dict.item().get('OQC_density')\n",
    "    avg_deg_density = variables_dict.item().get('avg_deg_density')\n",
    "    num_of_nodes = variables_dict.item().get('num_of_nodes')\n",
    "    x0 = variables_dict.item().get('x0')\n",
    "    GreedyOQC_indicator = variables_dict.item().get('GreedyOQC_indicator')\n",
    "    GreedyOQC_density = variables_dict.item().get('GreedyOQC_density')\n",
    "    \n",
    "    result_2_.append(result)\n",
    "    fun_values_vec_2_.append(fun_values_)\n",
    "    is_binary_vec_2_.append(is_binary_)\n",
    "    selected_nodes_2_.append(selected_nodes)\n",
    "    OQC_density_2_.append(OQC_density)\n",
    "    avg_deg_density_2_.append(avg_deg_density)\n",
    "    num_of_nodes_2_.append(num_of_nodes)\n",
    "    x0_2_.append(x0)\n",
    "    GreedyOQC_indicator_2_.append(GreedyOQC_indicator)\n",
    "    GreedyOQC_density_2_.append(GreedyOQC_density)\n",
    "\n",
    "    delta_2_ = np.array(fun_values_) / (num_of_nodes*(num_of_nodes-1)/2) + alpha\n",
    "    delta_2_vec_.append(delta_2_)\n",
    "\n",
    "    GreedyOQC_num_of_nodes = GreedyOQC_indicator.sum().item()\n",
    "    GreedyOQC_delta_2 = GreedyOQC_density / (GreedyOQC_num_of_nodes*(GreedyOQC_num_of_nodes-1)/2) + alpha\n",
    "    GreedyOQC_delta_2_.append(GreedyOQC_delta_2)\n",
    "\n",
    "    error_from_binary_2_.append(utils.error_from_binary(result.x, n))"
   ]
  },
  {
   "cell_type": "code",
   "execution_count": 12,
   "id": "634c0cc3",
   "metadata": {},
   "outputs": [],
   "source": [
    "save_=0"
   ]
  },
  {
   "cell_type": "code",
   "execution_count": 17,
   "id": "6f093853",
   "metadata": {},
   "outputs": [
    {
     "name": "stderr",
     "output_type": "stream",
     "text": [
      "/tmp/ipykernel_122673/3366089943.py:90: UserWarning: The figure layout has changed to tight\n",
      "  plt.tight_layout()\n"
     ]
    },
    {
     "data": {
      "image/png": "[encoded data removed]",
      "text/plain": [
       "<Figure size 1500x350 with 5 Axes>"
      ]
     },
     "metadata": {},
     "output_type": "display_data"
    }
   ],
   "source": [
    "from matplotlib.lines import Line2D\n",
    "from matplotlib.ticker import FormatStrFormatter\n",
    "\n",
    "# fig, axes = plt.subplots(1, 5, figsize=(15, 2), constrained_layout=True)  \n",
    "fig, axes = plt.subplots(1, 5, figsize=(15, 3.5), constrained_layout=True)  \n",
    "axes = axes.flatten()  # flatten to 1D array for easier indexing\n",
    "\n",
    "markevery=2\n",
    "\n",
    "for i in range(5):\n",
    "    ax = axes[i]\n",
    "    alpha = alpha_[i]\n",
    "    # alpha_onehop = alpha_onehop_[i]\n",
    "\n",
    "    ### 1 Densest One-Hop (Avg-Deg Density)\n",
    "    x0 = x0_[i]\n",
    "    GreedyOQC_indicator = GreedyOQC_indicator_[i]\n",
    "    GreedyOQC_density = GreedyOQC_density_[i]\n",
    "    fun_values_ = fun_values_vec_[i]\n",
    "    num_of_nodes = num_of_nodes_[i]\n",
    "    delta_ = delta_vec_[i]\n",
    "    GreedyOQC_delta = GreedyOQC_delta_[i]\n",
    "    ### 2 GreedyOQC\n",
    "    x0_2 = x0_2_[i]\n",
    "    GreedyOQC_indicator_2 = GreedyOQC_indicator_2_[i]\n",
    "    GreedyOQC_density_2 = GreedyOQC_density_2_[i]\n",
    "    fun_values__2 = fun_values_vec_2_[i]\n",
    "    num_of_nodes_2 = num_of_nodes_2_[i]\n",
    "    delta_2_ = delta_2_vec_[i]\n",
    "    GreedyOQC_delta_2 = GreedyOQC_delta_2_[i]\n",
    "\n",
    "\n",
    "    x0_num_of_nodes = x0.sum().item()\n",
    "    x0_delta = LL_optimization.f_a(x0, A, alpha) / (x0_num_of_nodes*(x0_num_of_nodes-1)/2) + alpha\n",
    "\n",
    "    x0_2_num_of_nodes = x0_2.sum().item()\n",
    "    x0_2_delta = LL_optimization.f_a(x0_2, A, alpha) / (x0_2_num_of_nodes*(x0_2_num_of_nodes-1)/2) + alpha\n",
    "\n",
    "    values = np.concatenate(([x0_delta], delta_))\n",
    "    values_2 = np.concatenate(([x0_2_delta], delta_2_))\n",
    "\n",
    "\n",
    "    # plot\n",
    "    ax.plot(values, '-o', markerfacecolor='none', markevery=markevery, label=fr\"${num_of_nodes}$\")\n",
    "    ax.plot(values_2, '-s', markerfacecolor='none', markevery=markevery, label=fr\"${num_of_nodes_2}$\")\n",
    "    ax.axhline(y=x0_delta, color='k', linestyle='--', linewidth=1, label=fr\"${x0_num_of_nodes}$\")\n",
    "    ax.axhline(y=GreedyOQC_delta, color='k', linestyle=':', linewidth=1.25, label=fr\"${GreedyOQC_indicator.sum()}$\")\n",
    "\n",
    "\n",
    "    # ax.set_title(fr'$\\alpha={alpha}$ [Solution size: ${num_of_nodes}$ nodes]', fontsize=10)\n",
    "    ax.set_title(fr'$\\alpha={alpha}$', fontsize=10)\n",
    "    ax.set_xlabel('Iterations', fontsize=9, labelpad=2.5)\n",
    "    ax.set_ylabel(r'$\\delta(\\mathcal{S})$', fontsize=9, labelpad=5)\n",
    "    ax.grid(True, which='both', linestyle='--', linewidth=0.5, alpha=0.7)\n",
    "\n",
    "    # ax.legend(title=r\"$|\\mathcal{S}^*|$\", loc=10, bbox_to_anchor=(0.5, -0.8), fontsize=9, ncol=4, columnspacing=0.5, handletextpad=0.3)\n",
    "    ax.legend(title=r\"$|\\mathcal{S}^*|$\", loc='upper center', bbox_to_anchor=(0.5, -0.55), fontsize=9, ncol=4, columnspacing=0.5, handletextpad=0.3)\n",
    "    # ax.legend(title=r\"$|\\mathcal{S}^*|$\", loc='upper center', fontsize=9, ncol=4, columnspacing=0.5, handletextpad=0.3)\n",
    "\n",
    "    # ax.set_ylim(-0.1,1.1)\n",
    "    ax.set_ylim(0.7-0.03,1.03)\n",
    "    # ax.set_ylim(0.8-0.1,1.1)\n",
    "\n",
    "\n",
    "    ax.set_yticks([0.7, 0.8, 0.9, 1.0])\n",
    "    ax.yaxis.set_major_formatter(FormatStrFormatter(\"%.1f\"))\n",
    "\n",
    "\n",
    "\n",
    "# Define custom legend handles\n",
    "method_handles = [\n",
    "    Line2D([0], [0], color='C0', marker='o', markerfacecolor='none', linestyle='-', label='Densest One-Hop + LL'),\n",
    "    Line2D([0], [0], color='C1', marker='s', markerfacecolor='none', linestyle='-', label='GreedyOQC + LL'),\n",
    "    # Line2D([0], [0], color='C2', marker='D', markerfacecolor='none', linestyle='-', label='One-Hop (Edge Density)')\n",
    "    Line2D([0], [0], color='k', linestyle='--', linewidth=1, label='Densest One-Hop'),\n",
    "    Line2D([0], [0], color='k', linestyle=':', linewidth=1.25, label='GreedyOQC')\n",
    "]\n",
    "\n",
    "# Place the second legend outside the loop (applies to whole fig)\n",
    "fig.legend(handles=method_handles,\n",
    "           loc='upper center', \n",
    "           bbox_to_anchor=(0.5, 1.15),  # adjust vertical space\n",
    "           ncol=4, \n",
    "           fontsize=9,\n",
    "        #    title=\"Methods\",\n",
    "           frameon=True)\n",
    "\n",
    "\n",
    "\n",
    "plt.tight_layout()\n",
    "\n",
    "# # Save the figure if needed\n",
    "save_folder = save_source_path + 'LL_homotopy/_final/' + dataset_name + '/'\n",
    "save_path = save_folder + dataset_name + '_alphas' + '_' + initialization\n",
    "save_path = save_path + '_' + density_type\n",
    "save_path = save_path + '_iters'+str(max_iters)+ '_delta_vs_iters_half_half.pdf'\n",
    "\n",
    "# save_folder = save_source_path + 'LL_homotopy/_final/' + dataset_name + '/'\n",
    "# save_path = save_folder + 'legends.pdf'\n",
    "\n",
    "if save_ == 1:\n",
    "    if not os.path.exists(save_folder):\n",
    "        os.makedirs(save_folder)\n",
    "    plt.savefig(save_path, format='pdf', bbox_inches='tight', dpi=300)  # Increase DPI for better quality\n",
    "\n",
    "plt.show()\n"
   ]
  },
  {
   "cell_type": "code",
   "execution_count": 82,
   "id": "35417073",
   "metadata": {},
   "outputs": [],
   "source": [
    "save_=0"
   ]
  },
  {
   "cell_type": "code",
   "execution_count": 61,
   "id": "b0166c8b",
   "metadata": {},
   "outputs": [
    {
     "data": {
      "text/plain": [
       "'/esat/augustijn1/scratch/ekariota/Figures/LL_OQC_icassp26/LL_homotopy/_final/github/legends.pdf'"
      ]
     },
     "execution_count": 61,
     "metadata": {},
     "output_type": "execute_result"
    }
   ],
   "source": [
    "save_path"
   ]
  }
 ],
 "metadata": {
  "kernelspec": {
   "display_name": "Python 3",
   "language": "python",
   "name": "python3"
  },
  "language_info": {
   "codemirror_mode": {
    "name": "ipython",
    "version": 3
   },
   "file_extension": ".py",
   "mimetype": "text/x-python",
   "name": "python",
   "nbconvert_exporter": "python",
   "pygments_lexer": "ipython3",
   "version": "3.12.1"
  }
 },
 "nbformat": 4,
 "nbformat_minor": 5
}
