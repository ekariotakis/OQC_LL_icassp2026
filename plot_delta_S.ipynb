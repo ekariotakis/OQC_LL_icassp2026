{
 "cells": [
  {
   "cell_type": "code",
   "execution_count": 1,
   "id": "b368337c",
   "metadata": {},
   "outputs": [],
   "source": [
    "import os\n",
    "import copy\n",
    "import numpy as np\n",
    "import networkx as nx\n",
    "\n",
    "from datetime import datetime\n",
    "import matplotlib.pyplot as plt \n",
    "from tqdm import tqdm\n",
    "\n",
    "import scipy\n",
    "from scipy.sparse.linalg import eigsh\n",
    "\n",
    "from init_graph import *\n",
    "import peeling\n",
    "import utils\n",
    "import LL_optimization"
   ]
  },
  {
   "cell_type": "code",
   "execution_count": 3,
   "id": "76fe8608",
   "metadata": {},
   "outputs": [],
   "source": [
    "# Import seaborn\n",
    "import seaborn as sns\n",
    "\n",
    "# Apply the default theme\n",
    "sns.set_theme()\n",
    "\n",
    "plt.rcParams[\"figure.dpi\"]=100\n",
    "plt.rcParams['savefig.dpi']=300\n",
    "\n",
    "sns.set_theme(style=\"whitegrid\")\n",
    "sns.set_style({\"axes.facecolor\": \".98\"})\n",
    "\n",
    "colors = sns.color_palette(\"muted\", 7)\n",
    "# markers = ['o','s','p','^','<','>','v','P','X']\n"
   ]
  },
  {
   "cell_type": "code",
   "execution_count": null,
   "id": "671b7dfd",
   "metadata": {},
   "outputs": [],
   "source": [
    "save_source_path = \"/figures/\"\n",
    "save_=0"
   ]
  },
  {
   "cell_type": "code",
   "execution_count": null,
   "id": "5c085944",
   "metadata": {},
   "outputs": [],
   "source": [
    "dataset_name = \"github\"\n",
    "# dataset_name = \"caidaRouterLevel\"\n",
    "# dataset_name = \"web-Stanford\"\n",
    "\n",
    "# dataset_name = \"deezer\"\n",
    "# dataset_name = \"lastfm\"\n",
    "\n",
    "source_path = \"datasets/\"\n",
    "G = init_graph(dataset_name, source_path)"
   ]
  },
  {
   "cell_type": "code",
   "execution_count": 5,
   "id": "23794e92",
   "metadata": {},
   "outputs": [
    {
     "name": "stdout",
     "output_type": "stream",
     "text": [
      "Graph with 192244 nodes and 609066 edges\n"
     ]
    }
   ],
   "source": [
    "print(G)\n",
    "n = G.number_of_nodes()\n",
    "m = G.number_of_edges()"
   ]
  },
  {
   "cell_type": "code",
   "execution_count": null,
   "id": "c027c510",
   "metadata": {},
   "outputs": [],
   "source": [
    "logs_save_path = \"/logs/\""
   ]
  },
  {
   "cell_type": "code",
   "execution_count": null,
   "id": "ddb0c289",
   "metadata": {},
   "outputs": [],
   "source": [
    "alpha_ = [0.6, 0.65, 0.7, 0.75, 0.8, 0.85, 0.9, 0.95]\n",
    "# alpha_ = [0.6, 0.7, 0.8, 0.9, 0.93, 0.95, 0.97]"
   ]
  },
  {
   "cell_type": "code",
   "execution_count": 9,
   "id": "9f1a28fd",
   "metadata": {},
   "outputs": [],
   "source": [
    "max_iters = 20\n",
    "initialization='S_oh'\n",
    "density_type='avg_deg'"
   ]
  },
  {
   "cell_type": "code",
   "execution_count": 10,
   "id": "533a384f",
   "metadata": {},
   "outputs": [],
   "source": [
    "dir_path = logs_save_path+dataset_name+'/'\n",
    "\n",
    "result_ = []\n",
    "fun_values_vec_ = []\n",
    "is_binary_vec_ = []\n",
    "selected_nodes_ = []\n",
    "OQC_density_ = []\n",
    "avg_deg_density_ = []\n",
    "num_of_nodes_ = []\n",
    "x0_ = []\n",
    "GreedyOQC_indicator_ = []\n",
    "GreedyOQC_density_ = []\n",
    "delta_vec_ = []\n",
    "GreedyOQC_delta_ = []\n",
    "error_from_binary_ = []\n",
    "for alpha in alpha_:\n",
    "    load_path = dir_path+dataset_name+'_alpha'+'{:.2f}'.format(alpha)\n",
    "    load_path = load_path+'_'+initialization\n",
    "    if initialization=='S_oh':\n",
    "        load_path = load_path+'_'+density_type\n",
    "    load_path = load_path + '_iters'+str(max_iters)+'_log.npy'\n",
    "\n",
    "    variables_dict = np.load(load_path, allow_pickle=True)\n",
    "\n",
    "    result = variables_dict.item().get('result')\n",
    "    fun_values_ = variables_dict.item().get('fun_values_')\n",
    "    is_binary_ = variables_dict.item().get('is_binary_')\n",
    "    selected_nodes = variables_dict.item().get('selected_nodes')\n",
    "    OQC_density = variables_dict.item().get('OQC_density')\n",
    "    avg_deg_density = variables_dict.item().get('avg_deg_density')\n",
    "    num_of_nodes = variables_dict.item().get('num_of_nodes')\n",
    "    x0 = variables_dict.item().get('x0')\n",
    "    GreedyOQC_indicator = variables_dict.item().get('GreedyOQC_indicator')\n",
    "    GreedyOQC_density = variables_dict.item().get('GreedyOQC_density')\n",
    "    \n",
    "    result_.append(result)\n",
    "    fun_values_vec_.append(fun_values_)\n",
    "    is_binary_vec_.append(is_binary_)\n",
    "    selected_nodes_.append(selected_nodes)\n",
    "    OQC_density_.append(OQC_density)\n",
    "    avg_deg_density_.append(avg_deg_density)\n",
    "    num_of_nodes_.append(num_of_nodes)\n",
    "    x0_.append(x0)\n",
    "    GreedyOQC_indicator_.append(GreedyOQC_indicator)\n",
    "    GreedyOQC_density_.append(GreedyOQC_density)\n",
    "\n",
    "    delta_ = np.minimum(1, np.array(fun_values_) / (num_of_nodes*(num_of_nodes-1)/2) + alpha)\n",
    "    delta_vec_.append(delta_)\n",
    "\n",
    "    GreedyOQC_num_of_nodes = GreedyOQC_indicator.sum().item()\n",
    "    GreedyOQC_delta = GreedyOQC_density / (GreedyOQC_num_of_nodes*(GreedyOQC_num_of_nodes-1)/2) + alpha\n",
    "    GreedyOQC_delta_.append(GreedyOQC_delta)\n",
    "\n",
    "    error_from_binary_.append(utils.error_from_binary(result.x, n))"
   ]
  },
  {
   "cell_type": "code",
   "execution_count": 11,
   "id": "a6797ac5",
   "metadata": {},
   "outputs": [],
   "source": [
    "max_iters = 20\n",
    "initialization_2='S_greedy'\n",
    "density_type_2='avg_deg'"
   ]
  },
  {
   "cell_type": "code",
   "execution_count": 12,
   "id": "347ad8a8",
   "metadata": {},
   "outputs": [],
   "source": [
    "dir_path = logs_save_path+dataset_name+'/'\n",
    "\n",
    "result_2_ = []\n",
    "fun_values_vec_2_ = []\n",
    "is_binary_vec_2_ = []\n",
    "selected_nodes_2_ = []\n",
    "OQC_density_2_ = []\n",
    "avg_deg_density_2_ = []\n",
    "num_of_nodes_2_ = []\n",
    "x0_2_ = []\n",
    "GreedyOQC_indicator_2_ = []\n",
    "GreedyOQC_density_2_ = []\n",
    "delta_2_vec_ = []\n",
    "GreedyOQC_delta_2_ = []\n",
    "error_from_binary_2_ = []\n",
    "for alpha in alpha_:\n",
    "    load_path = dir_path+dataset_name+'_alpha'+'{:.2f}'.format(alpha)\n",
    "    load_path = load_path+'_'+initialization_2\n",
    "    if initialization_2=='S_oh':\n",
    "        load_path = load_path+'_'+density_type_2\n",
    "    load_path = load_path + '_iters'+str(max_iters)+'_log.npy'\n",
    "\n",
    "    variables_dict = np.load(load_path, allow_pickle=True)\n",
    "\n",
    "    result = variables_dict.item().get('result')\n",
    "    fun_values_ = variables_dict.item().get('fun_values_')\n",
    "    is_binary_ = variables_dict.item().get('is_binary_')\n",
    "    selected_nodes = variables_dict.item().get('selected_nodes')\n",
    "    OQC_density = variables_dict.item().get('OQC_density')\n",
    "    avg_deg_density = variables_dict.item().get('avg_deg_density')\n",
    "    num_of_nodes = variables_dict.item().get('num_of_nodes')\n",
    "    x0 = variables_dict.item().get('x0')\n",
    "    GreedyOQC_indicator = variables_dict.item().get('GreedyOQC_indicator')\n",
    "    GreedyOQC_density = variables_dict.item().get('GreedyOQC_density')\n",
    "    \n",
    "    result_2_.append(result)\n",
    "    fun_values_vec_2_.append(fun_values_)\n",
    "    is_binary_vec_2_.append(is_binary_)\n",
    "    selected_nodes_2_.append(selected_nodes)\n",
    "    OQC_density_2_.append(OQC_density)\n",
    "    avg_deg_density_2_.append(avg_deg_density)\n",
    "    num_of_nodes_2_.append(num_of_nodes)\n",
    "    x0_2_.append(x0)\n",
    "    GreedyOQC_indicator_2_.append(GreedyOQC_indicator)\n",
    "    GreedyOQC_density_2_.append(GreedyOQC_density)\n",
    "\n",
    "    delta_2_ = np.minimum(1, np.array(fun_values_) / (num_of_nodes*(num_of_nodes-1)/2) + alpha)\n",
    "    delta_2_vec_.append(delta_2_)\n",
    "\n",
    "    GreedyOQC_num_of_nodes = GreedyOQC_indicator.sum().item()\n",
    "    GreedyOQC_delta_2 = GreedyOQC_density / (GreedyOQC_num_of_nodes*(GreedyOQC_num_of_nodes-1)/2) + alpha\n",
    "    GreedyOQC_delta_2_.append(GreedyOQC_delta_2)\n",
    "\n",
    "    error_from_binary_2_.append(utils.error_from_binary(result.x, n))"
   ]
  },
  {
   "cell_type": "code",
   "execution_count": 13,
   "id": "634c0cc3",
   "metadata": {},
   "outputs": [],
   "source": [
    "save_=0"
   ]
  },
  {
   "cell_type": "code",
   "execution_count": 14,
   "id": "30eb9b72",
   "metadata": {},
   "outputs": [],
   "source": [
    "if dataset_name=='web-Stanford':\n",
    "    omega = 61\n",
    "elif dataset_name=='caidaRouterLevel':\n",
    "    omega = 17\n",
    "elif dataset_name=='github':\n",
    "    omega = 24"
   ]
  },
  {
   "cell_type": "code",
   "execution_count": 15,
   "id": "f8feda16",
   "metadata": {},
   "outputs": [
    {
     "data": {
      "text/plain": [
       "17"
      ]
     },
     "execution_count": 15,
     "metadata": {},
     "output_type": "execute_result"
    }
   ],
   "source": [
    "omega"
   ]
  },
  {
   "cell_type": "code",
   "execution_count": 16,
   "id": "10b3f749",
   "metadata": {},
   "outputs": [
    {
     "data": {
      "image/png": "[encoded data removed]",
      "text/plain": [
       "<Figure size 350x250 with 1 Axes>"
      ]
     },
     "metadata": {},
     "output_type": "display_data"
    }
   ],
   "source": [
    "plt.figure(figsize=(3.5, 2.5))\n",
    "\n",
    "delta_to_plot = []\n",
    "delta_2_to_plot = []\n",
    "GreedyOQC_delta_to_plot = []\n",
    "\n",
    "num_of_nodes_to_plot = []\n",
    "num_of_nodes_2_to_plot = []\n",
    "GreedyOQC_num_of_nodes_to_plot = []\n",
    "\n",
    "for i in range(len(alpha_)):\n",
    "    alpha = alpha_[i]\n",
    "\n",
    "    ### 1\n",
    "    num_of_nodes = num_of_nodes_[i]\n",
    "    delta_ = delta_vec_[i]\n",
    "    GreedyOQC_indicator = GreedyOQC_indicator_[i]\n",
    "    GreedyOQC_num_of_nodes = GreedyOQC_indicator.sum()\n",
    "    GreedyOQC_delta = GreedyOQC_delta_[i]\n",
    "    # ### 2\n",
    "    num_of_nodes_2 = num_of_nodes_2_[i]\n",
    "    delta_2_ = delta_2_vec_[i]\n",
    "\n",
    "    delta_to_plot.append(delta_[-1])\n",
    "    delta_2_to_plot.append(delta_2_[-1])\n",
    "    GreedyOQC_delta_to_plot.append(GreedyOQC_delta)\n",
    "\n",
    "    num_of_nodes_to_plot.append(num_of_nodes)\n",
    "    num_of_nodes_2_to_plot.append(num_of_nodes_2)\n",
    "    GreedyOQC_num_of_nodes_to_plot.append(GreedyOQC_num_of_nodes)\n",
    "\n",
    "plt.plot(num_of_nodes_to_plot, delta_to_plot, '-o', markerfacecolor='none', label='Densest One-Hop + LL')\n",
    "plt.plot(num_of_nodes_2_to_plot, delta_2_to_plot, '-s', markerfacecolor='none', label='GreedyOQC + LL')\n",
    "plt.plot(GreedyOQC_num_of_nodes_to_plot, GreedyOQC_delta_to_plot, ':*', color='k', markerfacecolor='none', markeredgewidth=.8, label='GreedyOQC')\n",
    "\n",
    "plt.vlines(omega, 0, 1, linestyles=':', color='gray', linewidth=0.8)\n",
    "plt.hlines(1, 0, omega, linestyles=':', color='gray', linewidth=0.8)\n",
    "plt.plot(omega, 1, '.', color='gray', markeredgewidth=1.5)\n",
    "\n",
    "\n",
    "plt.title(fr'$\\leftarrow \\alpha$ increases $\\leftarrow$', fontsize=10)\n",
    "plt.xlabel(r'$|\\mathcal{S}|$', fontsize=9, labelpad=2.5)\n",
    "plt.ylabel(r'$\\delta(\\mathcal{S})$', fontsize=9, labelpad=5)\n",
    "plt.grid(True, which='both', linestyle='--', linewidth=0.5, alpha=0.7)\n",
    "\n",
    "# plt.legend()\n",
    "# plt.legend(fontsize=10, frameon=True, bbox_to_anchor=(0.1, 1.4), loc='upper left', ncol=3)\n",
    "\n",
    "# plt.ylim(-0.05,1.05)\n",
    "# plt.ylim(0.5-0.05,1.05)\n",
    "plt.ylim(0.7-0.05,1.05)\n",
    "plt.xlim(0)\n",
    "\n",
    "# plt.yticks([0.5, 0.6, 0.7, 0.8, 0.9, 1.0])\n",
    "plt.yticks([0.7, 0.8, 0.9, 1.0])\n",
    "\n",
    "plt.tight_layout()\n",
    "\n",
    "# # Save the figure if needed\n",
    "save_folder = save_source_path + 'LL_homotopy/_final/' + dataset_name + '/'\n",
    "save_path = save_folder + dataset_name + '_alphas' + '_' + initialization\n",
    "save_path = save_path + '_' + density_type\n",
    "save_path = save_path + '_iters'+str(max_iters)+ '_delta_vs_size_3_new.pdf'\n",
    "\n",
    "# save_folder = save_source_path + 'LL_homotopy/_final/' + dataset_name + '/'\n",
    "# save_path = save_folder + 'legend.pdf'\n",
    "\n",
    "if save_ == 1:\n",
    "    if not os.path.exists(save_folder):\n",
    "        os.makedirs(save_folder)\n",
    "    plt.savefig(save_path, format='pdf', bbox_inches='tight', dpi=300)  # Increase DPI for better quality\n",
    "\n",
    "plt.show()\n"
   ]
  },
  {
   "cell_type": "code",
   "execution_count": 17,
   "id": "7a189cd6",
   "metadata": {},
   "outputs": [],
   "source": [
    "save_=0"
   ]
  },
  {
   "cell_type": "code",
   "execution_count": null,
   "id": "7ade70ec",
   "metadata": {},
   "outputs": [],
   "source": []
  }
 ],
 "metadata": {
  "kernelspec": {
   "display_name": "Python 3",
   "language": "python",
   "name": "python3"
  },
  "language_info": {
   "codemirror_mode": {
    "name": "ipython",
    "version": 3
   },
   "file_extension": ".py",
   "mimetype": "text/x-python",
   "name": "python",
   "nbconvert_exporter": "python",
   "pygments_lexer": "ipython3",
   "version": "3.12.1"
  }
 },
 "nbformat": 4,
 "nbformat_minor": 5
}
